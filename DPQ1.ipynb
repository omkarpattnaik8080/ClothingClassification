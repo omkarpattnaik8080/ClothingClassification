{
  "nbformat": 4,
  "nbformat_minor": 0,
  "metadata": {
    "colab": {
      "provenance": [],
      "authorship_tag": "ABX9TyP/lSjaERRbS4nHv5I4bzJ3",
      "include_colab_link": true
    },
    "kernelspec": {
      "name": "python3",
      "display_name": "Python 3"
    },
    "language_info": {
      "name": "python"
    }
  },
  "cells": [
    {
      "cell_type": "markdown",
      "metadata": {
        "id": "view-in-github",
        "colab_type": "text"
      },
      "source": [
        "<a href=\"https://colab.research.google.com/github/omkarpattnaik8080/ClothingClassification/blob/main/DPQ1.ipynb\" target=\"_parent\"><img src=\"https://colab.research.google.com/assets/colab-badge.svg\" alt=\"Open In Colab\"/></a>"
      ]
    },
    {
      "cell_type": "code",
      "execution_count": 9,
      "metadata": {
        "id": "yAfVFGoiPrKo",
        "colab": {
          "base_uri": "https://localhost:8080/"
        },
        "outputId": "bd0e9fd3-5466-4de9-883c-852afe74be42"
      },
      "outputs": [
        {
          "output_type": "stream",
          "name": "stdout",
          "text": [
            "220\n"
          ]
        }
      ],
      "source": [
        "#0/1 KNAPSACK PROBLEM\n",
        "def knapsack(weights, values, w, n):\n",
        "    # Base case\n",
        "    if n == 0 or w == 0:\n",
        "        return 0\n",
        "\n",
        "    # Memoization check\n",
        "    if t[w][n] != -1:\n",
        "        return t[w][n]\n",
        "\n",
        "    # Choice diagram\n",
        "    if weights[n - 1] <= w:\n",
        "        t[w][n] = max(values[n - 1] + knapsack(weights, values, w - weights[n - 1], n - 1),\n",
        "                      knapsack(weights, values, w, n - 1))\n",
        "        return t[w][n]\n",
        "    elif weights[n - 1] > w:\n",
        "        t[w][n] = knapsack(weights, values, w, n - 1)\n",
        "        return t[w][n]\n",
        "\n",
        "weights = [10, 20, 30, 40]\n",
        "values = [60, 100, 120]\n",
        "w = 50\n",
        "n = len(values)\n",
        "# Initialize the memoization table `t`\n",
        "t = [[-1] * (n + 1) for _ in range(w + 1)]\n",
        "print(knapsack(weights, values, w, n))"
      ]
    },
    {
      "cell_type": "code",
      "source": [],
      "metadata": {
        "id": "Rs1tyh4jN4cX"
      },
      "execution_count": null,
      "outputs": []
    }
  ]
}